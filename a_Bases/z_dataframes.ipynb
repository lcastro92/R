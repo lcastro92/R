{
  "nbformat": 4,
  "nbformat_minor": 0,
  "metadata": {
    "colab": {
      "name": "r_dataframes",
      "provenance": []
    },
    "kernelspec": {
      "name": "ir",
      "display_name": "R"
    },
    "language_info": {
      "name": "R"
    }
  },
  "cells": [
    {
      "cell_type": "code",
      "execution_count": 3,
      "metadata": {
        "colab": {
          "base_uri": "https://localhost:8080/",
          "height": 96
        },
        "id": "bL5TNingpL-v",
        "outputId": "19b4f43f-b8fa-4635-cbb8-f70c739e6627"
      },
      "outputs": [
        {
          "output_type": "display_data",
          "data": {
            "text/plain": [
              "[[1]]\n",
              "[1] \"Toy Story\"\n",
              "\n",
              "[[2]]\n",
              "[1] 1995\n",
              "\n",
              "[[3]]\n",
              "[1] \"Animation\" \"Adventure\" \"Comedy\"   \n"
            ],
            "text/latex": "\\begin{enumerate}\n\\item 'Toy Story'\n\\item 1995\n\\item \\begin{enumerate*}\n\\item 'Animation'\n\\item 'Adventure'\n\\item 'Comedy'\n\\end{enumerate*}\n\n\\end{enumerate}\n",
            "text/markdown": "1. 'Toy Story'\n2. 1995\n3. 1. 'Animation'\n2. 'Adventure'\n3. 'Comedy'\n\n\n\n\n\n",
            "text/html": [
              "<ol>\n",
              "\t<li>'Toy Story'</li>\n",
              "\t<li>1995</li>\n",
              "\t<li><style>\n",
              ".list-inline {list-style: none; margin:0; padding: 0}\n",
              ".list-inline>li {display: inline-block}\n",
              ".list-inline>li:not(:last-child)::after {content: \"\\00b7\"; padding: 0 .5ex}\n",
              "</style>\n",
              "<ol class=list-inline><li>'Animation'</li><li>'Adventure'</li><li>'Comedy'</li></ol>\n",
              "</li>\n",
              "</ol>\n"
            ]
          },
          "metadata": {}
        }
      ],
      "source": [
        "#La información suele estar en bases de datos  relacionales, y R es perfecto para trabajar con esas BD.\n",
        "#Por otro lado, R tiene problemas para trabajar con datasets muy grandes, proveer de acceso concurrente a la información y ser persistente\n",
        "\n",
        "#Con R la información debe persistir en la memoria,por lo que es mejor analizar la información con SQL.\n",
        "\n",
        "#Las BD relacionales están optimizadas para trabajar con estructuras de BDs grandes, proveer acceso concurrente a varios users, mantener la consistencia, y la persistencia.\n",
        "\n",
        "movie <- list(\"Toy Story\",1995,c(\"Animation\",\"Adventure\",\"Comedy\"))\n",
        "movie"
      ]
    },
    {
      "cell_type": "code",
      "source": [
        "#Para acceder a un elemento\n",
        "movie[2]"
      ],
      "metadata": {
        "colab": {
          "base_uri": "https://localhost:8080/",
          "height": 62
        },
        "id": "ddnNnZkHpch6",
        "outputId": "5115908f-7ad3-4bea-edcf-6664a006bfd1"
      },
      "execution_count": 4,
      "outputs": [
        {
          "output_type": "display_data",
          "data": {
            "text/plain": [
              "[[1]]\n",
              "[1] 1995\n"
            ],
            "text/latex": "\\begin{enumerate}\n\\item 1995\n\\end{enumerate}\n",
            "text/markdown": "1. 1995\n\n\n",
            "text/html": [
              "<ol>\n",
              "\t<li>1995</li>\n",
              "</ol>\n"
            ]
          },
          "metadata": {}
        }
      ]
    },
    {
      "cell_type": "code",
      "source": [
        "#Para acceder a un rango\n",
        "movie[1:2]"
      ],
      "metadata": {
        "colab": {
          "base_uri": "https://localhost:8080/",
          "height": 80
        },
        "id": "rB34vn-qpfwR",
        "outputId": "610fc721-fd21-45d4-f24d-826c4d6bff6a"
      },
      "execution_count": 6,
      "outputs": [
        {
          "output_type": "display_data",
          "data": {
            "text/plain": [
              "[[1]]\n",
              "[1] \"Toy Story\"\n",
              "\n",
              "[[2]]\n",
              "[1] 1995\n"
            ],
            "text/latex": "\\begin{enumerate}\n\\item 'Toy Story'\n\\item 1995\n\\end{enumerate}\n",
            "text/markdown": "1. 'Toy Story'\n2. 1995\n\n\n",
            "text/html": [
              "<ol>\n",
              "\t<li>'Toy Story'</li>\n",
              "\t<li>1995</li>\n",
              "</ol>\n"
            ]
          },
          "metadata": {}
        }
      ]
    },
    {
      "cell_type": "code",
      "source": [
        "#Podemos hacer una lista con nombres\n",
        "movie <- list(name = \"Toy Story\",\n",
        "             year = 1995,\n",
        "             genre = c(\"Animation\", \"Adventure\", \"Comedy\"))\n",
        "\n",
        "movie"
      ],
      "metadata": {
        "colab": {
          "base_uri": "https://localhost:8080/",
          "height": 148
        },
        "id": "BnzdXP3opnEk",
        "outputId": "e3fc7923-ac23-4200-891f-64b2d679920a"
      },
      "execution_count": 8,
      "outputs": [
        {
          "output_type": "display_data",
          "data": {
            "text/plain": [
              "$name\n",
              "[1] \"Toy Story\"\n",
              "\n",
              "$year\n",
              "[1] 1995\n",
              "\n",
              "$genre\n",
              "[1] \"Animation\" \"Adventure\" \"Comedy\"   \n"
            ],
            "text/latex": "\\begin{description}\n\\item[\\$name] 'Toy Story'\n\\item[\\$year] 1995\n\\item[\\$genre] \\begin{enumerate*}\n\\item 'Animation'\n\\item 'Adventure'\n\\item 'Comedy'\n\\end{enumerate*}\n\n\\end{description}\n",
            "text/markdown": "$name\n:   'Toy Story'\n$year\n:   1995\n$genre\n:   1. 'Animation'\n2. 'Adventure'\n3. 'Comedy'\n\n\n\n\n\n",
            "text/html": [
              "<dl>\n",
              "\t<dt>$name</dt>\n",
              "\t\t<dd>'Toy Story'</dd>\n",
              "\t<dt>$year</dt>\n",
              "\t\t<dd>1995</dd>\n",
              "\t<dt>$genre</dt>\n",
              "\t\t<dd><style>\n",
              ".list-inline {list-style: none; margin:0; padding: 0}\n",
              ".list-inline>li {display: inline-block}\n",
              ".list-inline>li:not(:last-child)::after {content: \"\\00b7\"; padding: 0 .5ex}\n",
              "</style>\n",
              "<ol class=list-inline><li>'Animation'</li><li>'Adventure'</li><li>'Comedy'</li></ol>\n",
              "</dd>\n",
              "</dl>\n"
            ]
          },
          "metadata": {}
        }
      ]
    },
    {
      "cell_type": "code",
      "source": [
        "#Podemos acceder a los campos\n",
        "movie$genre"
      ],
      "metadata": {
        "colab": {
          "base_uri": "https://localhost:8080/",
          "height": 34
        },
        "id": "oUW4_QB7ptDM",
        "outputId": "63749ff0-e66d-40d6-932c-e4087d68240c"
      },
      "execution_count": 9,
      "outputs": [
        {
          "output_type": "display_data",
          "data": {
            "text/plain": [
              "[1] \"Animation\" \"Adventure\" \"Comedy\"   "
            ],
            "text/latex": "\\begin{enumerate*}\n\\item 'Animation'\n\\item 'Adventure'\n\\item 'Comedy'\n\\end{enumerate*}\n",
            "text/markdown": "1. 'Animation'\n2. 'Adventure'\n3. 'Comedy'\n\n\n",
            "text/html": [
              "<style>\n",
              ".list-inline {list-style: none; margin:0; padding: 0}\n",
              ".list-inline>li {display: inline-block}\n",
              ".list-inline>li:not(:last-child)::after {content: \"\\00b7\"; padding: 0 .5ex}\n",
              "</style>\n",
              "<ol class=list-inline><li>'Animation'</li><li>'Adventure'</li><li>'Comedy'</li></ol>\n"
            ]
          },
          "metadata": {}
        }
      ]
    },
    {
      "cell_type": "code",
      "source": [
        "#Otra forma de acceder a los campos\n",
        "movie[\"genre\"]"
      ],
      "metadata": {
        "colab": {
          "base_uri": "https://localhost:8080/",
          "height": 52
        },
        "id": "vSgVTB-5pwUQ",
        "outputId": "af3da2f6-2f43-4535-b4da-cd4498ea2d77"
      },
      "execution_count": 10,
      "outputs": [
        {
          "output_type": "display_data",
          "data": {
            "text/plain": [
              "$genre\n",
              "[1] \"Animation\" \"Adventure\" \"Comedy\"   \n"
            ],
            "text/latex": "\\textbf{\\$genre} = \\begin{enumerate*}\n\\item 'Animation'\n\\item 'Adventure'\n\\item 'Comedy'\n\\end{enumerate*}\n",
            "text/markdown": "**$genre** = 1. 'Animation'\n2. 'Adventure'\n3. 'Comedy'\n\n\n",
            "text/html": [
              "<strong>$genre</strong> = <style>\n",
              ".list-inline {list-style: none; margin:0; padding: 0}\n",
              ".list-inline>li {display: inline-block}\n",
              ".list-inline>li:not(:last-child)::after {content: \"\\00b7\"; padding: 0 .5ex}\n",
              "</style>\n",
              "<ol class=list-inline><li>'Animation'</li><li>'Adventure'</li><li>'Comedy'</li></ol>\n"
            ]
          },
          "metadata": {}
        }
      ]
    },
    {
      "cell_type": "code",
      "source": [
        "#También acceder a rangos\n",
        "movie[2:3]"
      ],
      "metadata": {
        "colab": {
          "base_uri": "https://localhost:8080/",
          "height": 114
        },
        "id": "DMUhweqJp2cv",
        "outputId": "f95df4b8-c489-45f5-ce36-8d0a13a9b741"
      },
      "execution_count": 11,
      "outputs": [
        {
          "output_type": "display_data",
          "data": {
            "text/plain": [
              "$year\n",
              "[1] 1995\n",
              "\n",
              "$genre\n",
              "[1] \"Animation\" \"Adventure\" \"Comedy\"   \n"
            ],
            "text/latex": "\\begin{description}\n\\item[\\$year] 1995\n\\item[\\$genre] \\begin{enumerate*}\n\\item 'Animation'\n\\item 'Adventure'\n\\item 'Comedy'\n\\end{enumerate*}\n\n\\end{description}\n",
            "text/markdown": "$year\n:   1995\n$genre\n:   1. 'Animation'\n2. 'Adventure'\n3. 'Comedy'\n\n\n\n\n\n",
            "text/html": [
              "<dl>\n",
              "\t<dt>$year</dt>\n",
              "\t\t<dd>1995</dd>\n",
              "\t<dt>$genre</dt>\n",
              "\t\t<dd><style>\n",
              ".list-inline {list-style: none; margin:0; padding: 0}\n",
              ".list-inline>li {display: inline-block}\n",
              ".list-inline>li:not(:last-child)::after {content: \"\\00b7\"; padding: 0 .5ex}\n",
              "</style>\n",
              "<ol class=list-inline><li>'Animation'</li><li>'Adventure'</li><li>'Comedy'</li></ol>\n",
              "</dd>\n",
              "</dl>\n"
            ]
          },
          "metadata": {}
        }
      ]
    },
    {
      "cell_type": "code",
      "source": [
        "#Class() devuelve el tipo de dato\n",
        "class(movie$name)\n",
        "class(movie$foreign)"
      ],
      "metadata": {
        "colab": {
          "base_uri": "https://localhost:8080/",
          "height": 52
        },
        "id": "XpKPRpO8p5Ji",
        "outputId": "001b4f94-bdf6-4c73-a7c2-3d6d456919dd"
      },
      "execution_count": 13,
      "outputs": [
        {
          "output_type": "display_data",
          "data": {
            "text/plain": [
              "[1] \"character\""
            ],
            "text/latex": "'character'",
            "text/markdown": "'character'",
            "text/html": [
              "'character'"
            ]
          },
          "metadata": {}
        },
        {
          "output_type": "display_data",
          "data": {
            "text/plain": [
              "[1] \"NULL\""
            ],
            "text/latex": "'NULL'",
            "text/markdown": "'NULL'",
            "text/html": [
              "'NULL'"
            ]
          },
          "metadata": {}
        }
      ]
    },
    {
      "cell_type": "code",
      "source": [
        "#Agregando elementos nuevos\n",
        "movie[[\"age\"]] <- 5\n",
        "movie"
      ],
      "metadata": {
        "colab": {
          "base_uri": "https://localhost:8080/",
          "height": 183
        },
        "id": "Hd4qPVtWqCoZ",
        "outputId": "b96b16d3-1511-4f72-da55-1e2494175776"
      },
      "execution_count": 14,
      "outputs": [
        {
          "output_type": "display_data",
          "data": {
            "text/plain": [
              "$name\n",
              "[1] \"Toy Story\"\n",
              "\n",
              "$year\n",
              "[1] 1995\n",
              "\n",
              "$genre\n",
              "[1] \"Animation\" \"Adventure\" \"Comedy\"   \n",
              "\n",
              "$age\n",
              "[1] 5\n"
            ],
            "text/latex": "\\begin{description}\n\\item[\\$name] 'Toy Story'\n\\item[\\$year] 1995\n\\item[\\$genre] \\begin{enumerate*}\n\\item 'Animation'\n\\item 'Adventure'\n\\item 'Comedy'\n\\end{enumerate*}\n\n\\item[\\$age] 5\n\\end{description}\n",
            "text/markdown": "$name\n:   'Toy Story'\n$year\n:   1995\n$genre\n:   1. 'Animation'\n2. 'Adventure'\n3. 'Comedy'\n\n\n\n$age\n:   5\n\n\n",
            "text/html": [
              "<dl>\n",
              "\t<dt>$name</dt>\n",
              "\t\t<dd>'Toy Story'</dd>\n",
              "\t<dt>$year</dt>\n",
              "\t\t<dd>1995</dd>\n",
              "\t<dt>$genre</dt>\n",
              "\t\t<dd><style>\n",
              ".list-inline {list-style: none; margin:0; padding: 0}\n",
              ".list-inline>li {display: inline-block}\n",
              ".list-inline>li:not(:last-child)::after {content: \"\\00b7\"; padding: 0 .5ex}\n",
              "</style>\n",
              "<ol class=list-inline><li>'Animation'</li><li>'Adventure'</li><li>'Comedy'</li></ol>\n",
              "</dd>\n",
              "\t<dt>$age</dt>\n",
              "\t\t<dd>5</dd>\n",
              "</dl>\n"
            ]
          },
          "metadata": {}
        }
      ]
    },
    {
      "cell_type": "code",
      "source": [
        "#Podemos modificar los valores directamente referenciándolos\n",
        "movie[[\"age\"]]<-7\n",
        "movie"
      ],
      "metadata": {
        "colab": {
          "base_uri": "https://localhost:8080/",
          "height": 183
        },
        "id": "ucNzDOFgqGpW",
        "outputId": "4f2e8483-7aa8-45e0-fa58-4f9238e9b32b"
      },
      "execution_count": 16,
      "outputs": [
        {
          "output_type": "display_data",
          "data": {
            "text/plain": [
              "$name\n",
              "[1] \"Toy Story\"\n",
              "\n",
              "$year\n",
              "[1] 1995\n",
              "\n",
              "$genre\n",
              "[1] \"Animation\" \"Adventure\" \"Comedy\"   \n",
              "\n",
              "$age\n",
              "[1] 7\n"
            ],
            "text/latex": "\\begin{description}\n\\item[\\$name] 'Toy Story'\n\\item[\\$year] 1995\n\\item[\\$genre] \\begin{enumerate*}\n\\item 'Animation'\n\\item 'Adventure'\n\\item 'Comedy'\n\\end{enumerate*}\n\n\\item[\\$age] 7\n\\end{description}\n",
            "text/markdown": "$name\n:   'Toy Story'\n$year\n:   1995\n$genre\n:   1. 'Animation'\n2. 'Adventure'\n3. 'Comedy'\n\n\n\n$age\n:   7\n\n\n",
            "text/html": [
              "<dl>\n",
              "\t<dt>$name</dt>\n",
              "\t\t<dd>'Toy Story'</dd>\n",
              "\t<dt>$year</dt>\n",
              "\t\t<dd>1995</dd>\n",
              "\t<dt>$genre</dt>\n",
              "\t\t<dd><style>\n",
              ".list-inline {list-style: none; margin:0; padding: 0}\n",
              ".list-inline>li {display: inline-block}\n",
              ".list-inline>li:not(:last-child)::after {content: \"\\00b7\"; padding: 0 .5ex}\n",
              "</style>\n",
              "<ol class=list-inline><li>'Animation'</li><li>'Adventure'</li><li>'Comedy'</li></ol>\n",
              "</dd>\n",
              "\t<dt>$age</dt>\n",
              "\t\t<dd>7</dd>\n",
              "</dl>\n"
            ]
          },
          "metadata": {}
        }
      ]
    },
    {
      "cell_type": "code",
      "source": [
        "#Podemos borrar campos con NULL\n",
        "movie[[\"age\"]] <- NULL\n",
        "movie"
      ],
      "metadata": {
        "colab": {
          "base_uri": "https://localhost:8080/",
          "height": 148
        },
        "id": "MJxcEO41qGdk",
        "outputId": "2421dadd-a9c3-4f12-dac6-b64ba9430c8c"
      },
      "execution_count": 17,
      "outputs": [
        {
          "output_type": "display_data",
          "data": {
            "text/plain": [
              "$name\n",
              "[1] \"Toy Story\"\n",
              "\n",
              "$year\n",
              "[1] 1995\n",
              "\n",
              "$genre\n",
              "[1] \"Animation\" \"Adventure\" \"Comedy\"   \n"
            ],
            "text/latex": "\\begin{description}\n\\item[\\$name] 'Toy Story'\n\\item[\\$year] 1995\n\\item[\\$genre] \\begin{enumerate*}\n\\item 'Animation'\n\\item 'Adventure'\n\\item 'Comedy'\n\\end{enumerate*}\n\n\\end{description}\n",
            "text/markdown": "$name\n:   'Toy Story'\n$year\n:   1995\n$genre\n:   1. 'Animation'\n2. 'Adventure'\n3. 'Comedy'\n\n\n\n\n\n",
            "text/html": [
              "<dl>\n",
              "\t<dt>$name</dt>\n",
              "\t\t<dd>'Toy Story'</dd>\n",
              "\t<dt>$year</dt>\n",
              "\t\t<dd>1995</dd>\n",
              "\t<dt>$genre</dt>\n",
              "\t\t<dd><style>\n",
              ".list-inline {list-style: none; margin:0; padding: 0}\n",
              ".list-inline>li {display: inline-block}\n",
              ".list-inline>li:not(:last-child)::after {content: \"\\00b7\"; padding: 0 .5ex}\n",
              "</style>\n",
              "<ol class=list-inline><li>'Animation'</li><li>'Adventure'</li><li>'Comedy'</li></ol>\n",
              "</dd>\n",
              "</dl>\n"
            ]
          },
          "metadata": {}
        }
      ]
    },
    {
      "cell_type": "code",
      "source": [
        "#Para concatenar listas usamos c()\n",
        "# Separamos la lista anterior en 2\n",
        "movie_part1 <- list(name = \"Toy Story\")\n",
        "movie_part2 <- list(year = 1995, genre = c(\"Animation\", \"Adventure\", \"Comedy\"))"
      ],
      "metadata": {
        "id": "omRH7j0PyUVa"
      },
      "execution_count": 18,
      "outputs": []
    },
    {
      "cell_type": "code",
      "source": [
        "# concatenamos las listas\n",
        "movie_concatenated <- c(movie_part1, movie_part2)\n",
        "movie_concatenated\n"
      ],
      "metadata": {
        "colab": {
          "base_uri": "https://localhost:8080/",
          "height": 148
        },
        "id": "u9ytakz6yXt3",
        "outputId": "b354146a-ceb2-4be3-f9ac-df41bbcbcb16"
      },
      "execution_count": 19,
      "outputs": [
        {
          "output_type": "display_data",
          "data": {
            "text/plain": [
              "$name\n",
              "[1] \"Toy Story\"\n",
              "\n",
              "$year\n",
              "[1] 1995\n",
              "\n",
              "$genre\n",
              "[1] \"Animation\" \"Adventure\" \"Comedy\"   \n"
            ],
            "text/latex": "\\begin{description}\n\\item[\\$name] 'Toy Story'\n\\item[\\$year] 1995\n\\item[\\$genre] \\begin{enumerate*}\n\\item 'Animation'\n\\item 'Adventure'\n\\item 'Comedy'\n\\end{enumerate*}\n\n\\end{description}\n",
            "text/markdown": "$name\n:   'Toy Story'\n$year\n:   1995\n$genre\n:   1. 'Animation'\n2. 'Adventure'\n3. 'Comedy'\n\n\n\n\n\n",
            "text/html": [
              "<dl>\n",
              "\t<dt>$name</dt>\n",
              "\t\t<dd>'Toy Story'</dd>\n",
              "\t<dt>$year</dt>\n",
              "\t\t<dd>1995</dd>\n",
              "\t<dt>$genre</dt>\n",
              "\t\t<dd><style>\n",
              ".list-inline {list-style: none; margin:0; padding: 0}\n",
              ".list-inline>li {display: inline-block}\n",
              ".list-inline>li:not(:last-child)::after {content: \"\\00b7\"; padding: 0 .5ex}\n",
              "</style>\n",
              "<ol class=list-inline><li>'Animation'</li><li>'Adventure'</li><li>'Comedy'</li></ol>\n",
              "</dd>\n",
              "</dl>\n"
            ]
          },
          "metadata": {}
        }
      ]
    },
    {
      "cell_type": "code",
      "source": [
        "#Para almacenar tablas, usamos dataframes, (Deben tener la misma longitud cada fila)\n",
        "movies <- data.frame(name = c(\"Toy Story\", \"Akira\", \"The Breakfast Club\", \"The Artist\",\n",
        "                              \"Modern Times\", \"Fight Club\", \"City of God\", \"The Untouchables\"),\n",
        "                    year = c(1995, 1998, 1985, 2011, 1936, 1999, 2002, 1987),\n",
        "                    stringsAsFactors=F)\n",
        "movies"
      ],
      "metadata": {
        "colab": {
          "base_uri": "https://localhost:8080/",
          "height": 348
        },
        "id": "YclBexUcyjNQ",
        "outputId": "63a2ea48-8629-416c-b1da-ccae07970abc"
      },
      "execution_count": 21,
      "outputs": [
        {
          "output_type": "display_data",
          "data": {
            "text/plain": [
              "  name               year\n",
              "1 Toy Story          1995\n",
              "2 Akira              1998\n",
              "3 The Breakfast Club 1985\n",
              "4 The Artist         2011\n",
              "5 Modern Times       1936\n",
              "6 Fight Club         1999\n",
              "7 City of God        2002\n",
              "8 The Untouchables   1987"
            ],
            "text/latex": "A data.frame: 8 × 2\n\\begin{tabular}{ll}\n name & year\\\\\n <chr> & <dbl>\\\\\n\\hline\n\t Toy Story          & 1995\\\\\n\t Akira              & 1998\\\\\n\t The Breakfast Club & 1985\\\\\n\t The Artist         & 2011\\\\\n\t Modern Times       & 1936\\\\\n\t Fight Club         & 1999\\\\\n\t City of God        & 2002\\\\\n\t The Untouchables   & 1987\\\\\n\\end{tabular}\n",
            "text/markdown": "\nA data.frame: 8 × 2\n\n| name &lt;chr&gt; | year &lt;dbl&gt; |\n|---|---|\n| Toy Story          | 1995 |\n| Akira              | 1998 |\n| The Breakfast Club | 1985 |\n| The Artist         | 2011 |\n| Modern Times       | 1936 |\n| Fight Club         | 1999 |\n| City of God        | 2002 |\n| The Untouchables   | 1987 |\n\n",
            "text/html": [
              "<table class=\"dataframe\">\n",
              "<caption>A data.frame: 8 × 2</caption>\n",
              "<thead>\n",
              "\t<tr><th scope=col>name</th><th scope=col>year</th></tr>\n",
              "\t<tr><th scope=col>&lt;chr&gt;</th><th scope=col>&lt;dbl&gt;</th></tr>\n",
              "</thead>\n",
              "<tbody>\n",
              "\t<tr><td>Toy Story         </td><td>1995</td></tr>\n",
              "\t<tr><td>Akira             </td><td>1998</td></tr>\n",
              "\t<tr><td>The Breakfast Club</td><td>1985</td></tr>\n",
              "\t<tr><td>The Artist        </td><td>2011</td></tr>\n",
              "\t<tr><td>Modern Times      </td><td>1936</td></tr>\n",
              "\t<tr><td>Fight Club        </td><td>1999</td></tr>\n",
              "\t<tr><td>City of God       </td><td>2002</td></tr>\n",
              "\t<tr><td>The Untouchables  </td><td>1987</td></tr>\n",
              "</tbody>\n",
              "</table>\n"
            ]
          },
          "metadata": {}
        }
      ]
    },
    {
      "cell_type": "code",
      "source": [
        "#Para ver campos\n",
        "movies$name"
      ],
      "metadata": {
        "colab": {
          "base_uri": "https://localhost:8080/",
          "height": 34
        },
        "id": "PjM3RJM9yzBj",
        "outputId": "4f37a7d7-583d-4d39-d47b-fa0ec4510473"
      },
      "execution_count": 23,
      "outputs": [
        {
          "output_type": "display_data",
          "data": {
            "text/plain": [
              "[1] \"Toy Story\"          \"Akira\"              \"The Breakfast Club\"\n",
              "[4] \"The Artist\"         \"Modern Times\"       \"Fight Club\"        \n",
              "[7] \"City of God\"        \"The Untouchables\"  "
            ],
            "text/latex": "\\begin{enumerate*}\n\\item 'Toy Story'\n\\item 'Akira'\n\\item 'The Breakfast Club'\n\\item 'The Artist'\n\\item 'Modern Times'\n\\item 'Fight Club'\n\\item 'City of God'\n\\item 'The Untouchables'\n\\end{enumerate*}\n",
            "text/markdown": "1. 'Toy Story'\n2. 'Akira'\n3. 'The Breakfast Club'\n4. 'The Artist'\n5. 'Modern Times'\n6. 'Fight Club'\n7. 'City of God'\n8. 'The Untouchables'\n\n\n",
            "text/html": [
              "<style>\n",
              ".list-inline {list-style: none; margin:0; padding: 0}\n",
              ".list-inline>li {display: inline-block}\n",
              ".list-inline>li:not(:last-child)::after {content: \"\\00b7\"; padding: 0 .5ex}\n",
              "</style>\n",
              "<ol class=list-inline><li>'Toy Story'</li><li>'Akira'</li><li>'The Breakfast Club'</li><li>'The Artist'</li><li>'Modern Times'</li><li>'Fight Club'</li><li>'City of God'</li><li>'The Untouchables'</li></ol>\n"
            ]
          },
          "metadata": {}
        }
      ]
    },
    {
      "cell_type": "code",
      "source": [
        "#Para ver por número de columna\n",
        "movies[1]"
      ],
      "metadata": {
        "colab": {
          "base_uri": "https://localhost:8080/",
          "height": 348
        },
        "id": "SSoX31lsy2JM",
        "outputId": "a3b8b820-a4eb-4b03-df2b-f6a15d9bec72"
      },
      "execution_count": 24,
      "outputs": [
        {
          "output_type": "display_data",
          "data": {
            "text/plain": [
              "  name              \n",
              "1 Toy Story         \n",
              "2 Akira             \n",
              "3 The Breakfast Club\n",
              "4 The Artist        \n",
              "5 Modern Times      \n",
              "6 Fight Club        \n",
              "7 City of God       \n",
              "8 The Untouchables  "
            ],
            "text/latex": "A data.frame: 8 × 1\n\\begin{tabular}{l}\n name\\\\\n <chr>\\\\\n\\hline\n\t Toy Story         \\\\\n\t Akira             \\\\\n\t The Breakfast Club\\\\\n\t The Artist        \\\\\n\t Modern Times      \\\\\n\t Fight Club        \\\\\n\t City of God       \\\\\n\t The Untouchables  \\\\\n\\end{tabular}\n",
            "text/markdown": "\nA data.frame: 8 × 1\n\n| name &lt;chr&gt; |\n|---|\n| Toy Story          |\n| Akira              |\n| The Breakfast Club |\n| The Artist         |\n| Modern Times       |\n| Fight Club         |\n| City of God        |\n| The Untouchables   |\n\n",
            "text/html": [
              "<table class=\"dataframe\">\n",
              "<caption>A data.frame: 8 × 1</caption>\n",
              "<thead>\n",
              "\t<tr><th scope=col>name</th></tr>\n",
              "\t<tr><th scope=col>&lt;chr&gt;</th></tr>\n",
              "</thead>\n",
              "<tbody>\n",
              "\t<tr><td>Toy Story         </td></tr>\n",
              "\t<tr><td>Akira             </td></tr>\n",
              "\t<tr><td>The Breakfast Club</td></tr>\n",
              "\t<tr><td>The Artist        </td></tr>\n",
              "\t<tr><td>Modern Times      </td></tr>\n",
              "\t<tr><td>Fight Club        </td></tr>\n",
              "\t<tr><td>City of God       </td></tr>\n",
              "\t<tr><td>The Untouchables  </td></tr>\n",
              "</tbody>\n",
              "</table>\n"
            ]
          },
          "metadata": {}
        }
      ]
    },
    {
      "cell_type": "code",
      "source": [
        "#Para obtener información sobre el dataframe, usamos str\n",
        "str(movies)"
      ],
      "metadata": {
        "colab": {
          "base_uri": "https://localhost:8080/"
        },
        "id": "oRJEIBXLy6je",
        "outputId": "a5d82156-07d4-420c-a5c7-adc9ec125f13"
      },
      "execution_count": 25,
      "outputs": [
        {
          "output_type": "stream",
          "name": "stdout",
          "text": [
            "'data.frame':\t8 obs. of  2 variables:\n",
            " $ name: chr  \"Toy Story\" \"Akira\" \"The Breakfast Club\" \"The Artist\" ...\n",
            " $ year: num  1995 1998 1985 2011 1936 ...\n"
          ]
        }
      ]
    },
    {
      "cell_type": "code",
      "source": [
        "#Para ver los tipos de cada columna, usamos class\n",
        "class(movies$year)"
      ],
      "metadata": {
        "colab": {
          "base_uri": "https://localhost:8080/",
          "height": 34
        },
        "id": "nf7sYzBxzAVn",
        "outputId": "fb74a150-6cb9-47e5-93da-3232967f02b0"
      },
      "execution_count": 26,
      "outputs": [
        {
          "output_type": "display_data",
          "data": {
            "text/plain": [
              "[1] \"numeric\""
            ],
            "text/latex": "'numeric'",
            "text/markdown": "'numeric'",
            "text/html": [
              "'numeric'"
            ]
          },
          "metadata": {}
        }
      ]
    },
    {
      "cell_type": "code",
      "source": [
        "#podemos seleccionar rangos posiciones específicas (fila 1 columna 2)\n",
        "movies[1,2]"
      ],
      "metadata": {
        "colab": {
          "base_uri": "https://localhost:8080/",
          "height": 34
        },
        "id": "Bna35-BQzAJq",
        "outputId": "26268e62-4f9b-495e-fa2a-0e2ebb4a1ccc"
      },
      "execution_count": 28,
      "outputs": [
        {
          "output_type": "display_data",
          "data": {
            "text/plain": [
              "[1] 1995"
            ],
            "text/latex": "1995",
            "text/markdown": "1995",
            "text/html": [
              "1995"
            ]
          },
          "metadata": {}
        }
      ]
    },
    {
      "cell_type": "code",
      "source": [
        "#head devuelve los primeros 6 valores\n",
        "head(movies)"
      ],
      "metadata": {
        "colab": {
          "base_uri": "https://localhost:8080/",
          "height": 286
        },
        "id": "snL1QQIgzNvE",
        "outputId": "5a4b16d6-aa22-454e-9cc6-62f6348c4369"
      },
      "execution_count": 29,
      "outputs": [
        {
          "output_type": "display_data",
          "data": {
            "text/plain": [
              "  name               year\n",
              "1 Toy Story          1995\n",
              "2 Akira              1998\n",
              "3 The Breakfast Club 1985\n",
              "4 The Artist         2011\n",
              "5 Modern Times       1936\n",
              "6 Fight Club         1999"
            ],
            "text/latex": "A data.frame: 6 × 2\n\\begin{tabular}{r|ll}\n  & name & year\\\\\n  & <chr> & <dbl>\\\\\n\\hline\n\t1 & Toy Story          & 1995\\\\\n\t2 & Akira              & 1998\\\\\n\t3 & The Breakfast Club & 1985\\\\\n\t4 & The Artist         & 2011\\\\\n\t5 & Modern Times       & 1936\\\\\n\t6 & Fight Club         & 1999\\\\\n\\end{tabular}\n",
            "text/markdown": "\nA data.frame: 6 × 2\n\n| <!--/--> | name &lt;chr&gt; | year &lt;dbl&gt; |\n|---|---|---|\n| 1 | Toy Story          | 1995 |\n| 2 | Akira              | 1998 |\n| 3 | The Breakfast Club | 1985 |\n| 4 | The Artist         | 2011 |\n| 5 | Modern Times       | 1936 |\n| 6 | Fight Club         | 1999 |\n\n",
            "text/html": [
              "<table class=\"dataframe\">\n",
              "<caption>A data.frame: 6 × 2</caption>\n",
              "<thead>\n",
              "\t<tr><th></th><th scope=col>name</th><th scope=col>year</th></tr>\n",
              "\t<tr><th></th><th scope=col>&lt;chr&gt;</th><th scope=col>&lt;dbl&gt;</th></tr>\n",
              "</thead>\n",
              "<tbody>\n",
              "\t<tr><th scope=row>1</th><td>Toy Story         </td><td>1995</td></tr>\n",
              "\t<tr><th scope=row>2</th><td>Akira             </td><td>1998</td></tr>\n",
              "\t<tr><th scope=row>3</th><td>The Breakfast Club</td><td>1985</td></tr>\n",
              "\t<tr><th scope=row>4</th><td>The Artist        </td><td>2011</td></tr>\n",
              "\t<tr><th scope=row>5</th><td>Modern Times      </td><td>1936</td></tr>\n",
              "\t<tr><th scope=row>6</th><td>Fight Club        </td><td>1999</td></tr>\n",
              "</tbody>\n",
              "</table>\n"
            ]
          },
          "metadata": {}
        }
      ]
    },
    {
      "cell_type": "code",
      "source": [
        "#Tail devuelve los últimos 6\n",
        "tail(movies)"
      ],
      "metadata": {
        "colab": {
          "base_uri": "https://localhost:8080/",
          "height": 286
        },
        "id": "sonzJERJzRBV",
        "outputId": "fb8e56f1-519b-425a-9902-bb432b3d1eb6"
      },
      "execution_count": 30,
      "outputs": [
        {
          "output_type": "display_data",
          "data": {
            "text/plain": [
              "  name               year\n",
              "3 The Breakfast Club 1985\n",
              "4 The Artist         2011\n",
              "5 Modern Times       1936\n",
              "6 Fight Club         1999\n",
              "7 City of God        2002\n",
              "8 The Untouchables   1987"
            ],
            "text/latex": "A data.frame: 6 × 2\n\\begin{tabular}{r|ll}\n  & name & year\\\\\n  & <chr> & <dbl>\\\\\n\\hline\n\t3 & The Breakfast Club & 1985\\\\\n\t4 & The Artist         & 2011\\\\\n\t5 & Modern Times       & 1936\\\\\n\t6 & Fight Club         & 1999\\\\\n\t7 & City of God        & 2002\\\\\n\t8 & The Untouchables   & 1987\\\\\n\\end{tabular}\n",
            "text/markdown": "\nA data.frame: 6 × 2\n\n| <!--/--> | name &lt;chr&gt; | year &lt;dbl&gt; |\n|---|---|---|\n| 3 | The Breakfast Club | 1985 |\n| 4 | The Artist         | 2011 |\n| 5 | Modern Times       | 1936 |\n| 6 | Fight Club         | 1999 |\n| 7 | City of God        | 2002 |\n| 8 | The Untouchables   | 1987 |\n\n",
            "text/html": [
              "<table class=\"dataframe\">\n",
              "<caption>A data.frame: 6 × 2</caption>\n",
              "<thead>\n",
              "\t<tr><th></th><th scope=col>name</th><th scope=col>year</th></tr>\n",
              "\t<tr><th></th><th scope=col>&lt;chr&gt;</th><th scope=col>&lt;dbl&gt;</th></tr>\n",
              "</thead>\n",
              "<tbody>\n",
              "\t<tr><th scope=row>3</th><td>The Breakfast Club</td><td>1985</td></tr>\n",
              "\t<tr><th scope=row>4</th><td>The Artist        </td><td>2011</td></tr>\n",
              "\t<tr><th scope=row>5</th><td>Modern Times      </td><td>1936</td></tr>\n",
              "\t<tr><th scope=row>6</th><td>Fight Club        </td><td>1999</td></tr>\n",
              "\t<tr><th scope=row>7</th><td>City of God       </td><td>2002</td></tr>\n",
              "\t<tr><th scope=row>8</th><td>The Untouchables  </td><td>1987</td></tr>\n",
              "</tbody>\n",
              "</table>\n"
            ]
          },
          "metadata": {}
        }
      ]
    },
    {
      "cell_type": "code",
      "source": [
        "#Podemos agregar campos nuevos\n",
        "movies['length'] <- c(81, 125, 97, 100, 87, 139, 130, 119)\n",
        "movies"
      ],
      "metadata": {
        "colab": {
          "base_uri": "https://localhost:8080/",
          "height": 348
        },
        "id": "iLLRe_HQzVhD",
        "outputId": "89486784-fe92-43c0-8ae3-4429b161dd21"
      },
      "execution_count": 31,
      "outputs": [
        {
          "output_type": "display_data",
          "data": {
            "text/plain": [
              "  name               year length\n",
              "1 Toy Story          1995  81   \n",
              "2 Akira              1998 125   \n",
              "3 The Breakfast Club 1985  97   \n",
              "4 The Artist         2011 100   \n",
              "5 Modern Times       1936  87   \n",
              "6 Fight Club         1999 139   \n",
              "7 City of God        2002 130   \n",
              "8 The Untouchables   1987 119   "
            ],
            "text/latex": "A data.frame: 8 × 3\n\\begin{tabular}{lll}\n name & year & length\\\\\n <chr> & <dbl> & <dbl>\\\\\n\\hline\n\t Toy Story          & 1995 &  81\\\\\n\t Akira              & 1998 & 125\\\\\n\t The Breakfast Club & 1985 &  97\\\\\n\t The Artist         & 2011 & 100\\\\\n\t Modern Times       & 1936 &  87\\\\\n\t Fight Club         & 1999 & 139\\\\\n\t City of God        & 2002 & 130\\\\\n\t The Untouchables   & 1987 & 119\\\\\n\\end{tabular}\n",
            "text/markdown": "\nA data.frame: 8 × 3\n\n| name &lt;chr&gt; | year &lt;dbl&gt; | length &lt;dbl&gt; |\n|---|---|---|\n| Toy Story          | 1995 |  81 |\n| Akira              | 1998 | 125 |\n| The Breakfast Club | 1985 |  97 |\n| The Artist         | 2011 | 100 |\n| Modern Times       | 1936 |  87 |\n| Fight Club         | 1999 | 139 |\n| City of God        | 2002 | 130 |\n| The Untouchables   | 1987 | 119 |\n\n",
            "text/html": [
              "<table class=\"dataframe\">\n",
              "<caption>A data.frame: 8 × 3</caption>\n",
              "<thead>\n",
              "\t<tr><th scope=col>name</th><th scope=col>year</th><th scope=col>length</th></tr>\n",
              "\t<tr><th scope=col>&lt;chr&gt;</th><th scope=col>&lt;dbl&gt;</th><th scope=col>&lt;dbl&gt;</th></tr>\n",
              "</thead>\n",
              "<tbody>\n",
              "\t<tr><td>Toy Story         </td><td>1995</td><td> 81</td></tr>\n",
              "\t<tr><td>Akira             </td><td>1998</td><td>125</td></tr>\n",
              "\t<tr><td>The Breakfast Club</td><td>1985</td><td> 97</td></tr>\n",
              "\t<tr><td>The Artist        </td><td>2011</td><td>100</td></tr>\n",
              "\t<tr><td>Modern Times      </td><td>1936</td><td> 87</td></tr>\n",
              "\t<tr><td>Fight Club        </td><td>1999</td><td>139</td></tr>\n",
              "\t<tr><td>City of God       </td><td>2002</td><td>130</td></tr>\n",
              "\t<tr><td>The Untouchables  </td><td>1987</td><td>119</td></tr>\n",
              "</tbody>\n",
              "</table>\n"
            ]
          },
          "metadata": {}
        }
      ]
    },
    {
      "cell_type": "code",
      "source": [
        "#y también registros\n",
        "movies <- rbind(movies, c(name=\"Dr. Strangelove\", year=1964, length=94))\n",
        "movies"
      ],
      "metadata": {
        "colab": {
          "base_uri": "https://localhost:8080/",
          "height": 380
        },
        "id": "UyowJzLuzaR_",
        "outputId": "03c223c5-ef1b-450d-efd4-6e2a7c3d7352"
      },
      "execution_count": 32,
      "outputs": [
        {
          "output_type": "display_data",
          "data": {
            "text/plain": [
              "  name               year length\n",
              "1 Toy Story          1995 81    \n",
              "2 Akira              1998 125   \n",
              "3 The Breakfast Club 1985 97    \n",
              "4 The Artist         2011 100   \n",
              "5 Modern Times       1936 87    \n",
              "6 Fight Club         1999 139   \n",
              "7 City of God        2002 130   \n",
              "8 The Untouchables   1987 119   \n",
              "9 Dr. Strangelove    1964 94    "
            ],
            "text/latex": "A data.frame: 9 × 3\n\\begin{tabular}{lll}\n name & year & length\\\\\n <chr> & <chr> & <chr>\\\\\n\\hline\n\t Toy Story          & 1995 & 81 \\\\\n\t Akira              & 1998 & 125\\\\\n\t The Breakfast Club & 1985 & 97 \\\\\n\t The Artist         & 2011 & 100\\\\\n\t Modern Times       & 1936 & 87 \\\\\n\t Fight Club         & 1999 & 139\\\\\n\t City of God        & 2002 & 130\\\\\n\t The Untouchables   & 1987 & 119\\\\\n\t Dr. Strangelove    & 1964 & 94 \\\\\n\\end{tabular}\n",
            "text/markdown": "\nA data.frame: 9 × 3\n\n| name &lt;chr&gt; | year &lt;chr&gt; | length &lt;chr&gt; |\n|---|---|---|\n| Toy Story          | 1995 | 81  |\n| Akira              | 1998 | 125 |\n| The Breakfast Club | 1985 | 97  |\n| The Artist         | 2011 | 100 |\n| Modern Times       | 1936 | 87  |\n| Fight Club         | 1999 | 139 |\n| City of God        | 2002 | 130 |\n| The Untouchables   | 1987 | 119 |\n| Dr. Strangelove    | 1964 | 94  |\n\n",
            "text/html": [
              "<table class=\"dataframe\">\n",
              "<caption>A data.frame: 9 × 3</caption>\n",
              "<thead>\n",
              "\t<tr><th scope=col>name</th><th scope=col>year</th><th scope=col>length</th></tr>\n",
              "\t<tr><th scope=col>&lt;chr&gt;</th><th scope=col>&lt;chr&gt;</th><th scope=col>&lt;chr&gt;</th></tr>\n",
              "</thead>\n",
              "<tbody>\n",
              "\t<tr><td>Toy Story         </td><td>1995</td><td>81 </td></tr>\n",
              "\t<tr><td>Akira             </td><td>1998</td><td>125</td></tr>\n",
              "\t<tr><td>The Breakfast Club</td><td>1985</td><td>97 </td></tr>\n",
              "\t<tr><td>The Artist        </td><td>2011</td><td>100</td></tr>\n",
              "\t<tr><td>Modern Times      </td><td>1936</td><td>87 </td></tr>\n",
              "\t<tr><td>Fight Club        </td><td>1999</td><td>139</td></tr>\n",
              "\t<tr><td>City of God       </td><td>2002</td><td>130</td></tr>\n",
              "\t<tr><td>The Untouchables  </td><td>1987</td><td>119</td></tr>\n",
              "\t<tr><td>Dr. Strangelove   </td><td>1964</td><td>94 </td></tr>\n",
              "</tbody>\n",
              "</table>\n"
            ]
          },
          "metadata": {}
        }
      ]
    },
    {
      "cell_type": "code",
      "source": [
        "#También borrar registros\n",
        "movies <- movies[-4,]\n",
        "movies"
      ],
      "metadata": {
        "colab": {
          "base_uri": "https://localhost:8080/",
          "height": 348
        },
        "id": "6axt9rcozfmm",
        "outputId": "004dd26e-cd24-4484-e766-57e51253617c"
      },
      "execution_count": 34,
      "outputs": [
        {
          "output_type": "display_data",
          "data": {
            "text/plain": [
              "  name               year length\n",
              "1 Toy Story          1995 81    \n",
              "2 Akira              1998 125   \n",
              "3 The Breakfast Club 1985 97    \n",
              "5 Modern Times       1936 87    \n",
              "6 Fight Club         1999 139   \n",
              "7 City of God        2002 130   \n",
              "8 The Untouchables   1987 119   \n",
              "9 Dr. Strangelove    1964 94    "
            ],
            "text/latex": "A data.frame: 8 × 3\n\\begin{tabular}{r|lll}\n  & name & year & length\\\\\n  & <chr> & <chr> & <chr>\\\\\n\\hline\n\t1 & Toy Story          & 1995 & 81 \\\\\n\t2 & Akira              & 1998 & 125\\\\\n\t3 & The Breakfast Club & 1985 & 97 \\\\\n\t5 & Modern Times       & 1936 & 87 \\\\\n\t6 & Fight Club         & 1999 & 139\\\\\n\t7 & City of God        & 2002 & 130\\\\\n\t8 & The Untouchables   & 1987 & 119\\\\\n\t9 & Dr. Strangelove    & 1964 & 94 \\\\\n\\end{tabular}\n",
            "text/markdown": "\nA data.frame: 8 × 3\n\n| <!--/--> | name &lt;chr&gt; | year &lt;chr&gt; | length &lt;chr&gt; |\n|---|---|---|---|\n| 1 | Toy Story          | 1995 | 81  |\n| 2 | Akira              | 1998 | 125 |\n| 3 | The Breakfast Club | 1985 | 97  |\n| 5 | Modern Times       | 1936 | 87  |\n| 6 | Fight Club         | 1999 | 139 |\n| 7 | City of God        | 2002 | 130 |\n| 8 | The Untouchables   | 1987 | 119 |\n| 9 | Dr. Strangelove    | 1964 | 94  |\n\n",
            "text/html": [
              "<table class=\"dataframe\">\n",
              "<caption>A data.frame: 8 × 3</caption>\n",
              "<thead>\n",
              "\t<tr><th></th><th scope=col>name</th><th scope=col>year</th><th scope=col>length</th></tr>\n",
              "\t<tr><th></th><th scope=col>&lt;chr&gt;</th><th scope=col>&lt;chr&gt;</th><th scope=col>&lt;chr&gt;</th></tr>\n",
              "</thead>\n",
              "<tbody>\n",
              "\t<tr><th scope=row>1</th><td>Toy Story         </td><td>1995</td><td>81 </td></tr>\n",
              "\t<tr><th scope=row>2</th><td>Akira             </td><td>1998</td><td>125</td></tr>\n",
              "\t<tr><th scope=row>3</th><td>The Breakfast Club</td><td>1985</td><td>97 </td></tr>\n",
              "\t<tr><th scope=row>5</th><td>Modern Times      </td><td>1936</td><td>87 </td></tr>\n",
              "\t<tr><th scope=row>6</th><td>Fight Club        </td><td>1999</td><td>139</td></tr>\n",
              "\t<tr><th scope=row>7</th><td>City of God       </td><td>2002</td><td>130</td></tr>\n",
              "\t<tr><th scope=row>8</th><td>The Untouchables  </td><td>1987</td><td>119</td></tr>\n",
              "\t<tr><th scope=row>9</th><td>Dr. Strangelove   </td><td>1964</td><td>94 </td></tr>\n",
              "</tbody>\n",
              "</table>\n"
            ]
          },
          "metadata": {}
        }
      ]
    },
    {
      "cell_type": "code",
      "source": [
        "#Para borrar columnas usamos NULL\n",
        "movies[[\"length\"]] <- NULL\n",
        "movies"
      ],
      "metadata": {
        "colab": {
          "base_uri": "https://localhost:8080/",
          "height": 348
        },
        "id": "1cTkRu6xzvFw",
        "outputId": "7e967f01-fff0-4a9f-9138-e3cee4f3a9d9"
      },
      "execution_count": 35,
      "outputs": [
        {
          "output_type": "display_data",
          "data": {
            "text/plain": [
              "  name               year\n",
              "1 Toy Story          1995\n",
              "2 Akira              1998\n",
              "3 The Breakfast Club 1985\n",
              "5 Modern Times       1936\n",
              "6 Fight Club         1999\n",
              "7 City of God        2002\n",
              "8 The Untouchables   1987\n",
              "9 Dr. Strangelove    1964"
            ],
            "text/latex": "A data.frame: 8 × 2\n\\begin{tabular}{r|ll}\n  & name & year\\\\\n  & <chr> & <chr>\\\\\n\\hline\n\t1 & Toy Story          & 1995\\\\\n\t2 & Akira              & 1998\\\\\n\t3 & The Breakfast Club & 1985\\\\\n\t5 & Modern Times       & 1936\\\\\n\t6 & Fight Club         & 1999\\\\\n\t7 & City of God        & 2002\\\\\n\t8 & The Untouchables   & 1987\\\\\n\t9 & Dr. Strangelove    & 1964\\\\\n\\end{tabular}\n",
            "text/markdown": "\nA data.frame: 8 × 2\n\n| <!--/--> | name &lt;chr&gt; | year &lt;chr&gt; |\n|---|---|---|\n| 1 | Toy Story          | 1995 |\n| 2 | Akira              | 1998 |\n| 3 | The Breakfast Club | 1985 |\n| 5 | Modern Times       | 1936 |\n| 6 | Fight Club         | 1999 |\n| 7 | City of God        | 2002 |\n| 8 | The Untouchables   | 1987 |\n| 9 | Dr. Strangelove    | 1964 |\n\n",
            "text/html": [
              "<table class=\"dataframe\">\n",
              "<caption>A data.frame: 8 × 2</caption>\n",
              "<thead>\n",
              "\t<tr><th></th><th scope=col>name</th><th scope=col>year</th></tr>\n",
              "\t<tr><th></th><th scope=col>&lt;chr&gt;</th><th scope=col>&lt;chr&gt;</th></tr>\n",
              "</thead>\n",
              "<tbody>\n",
              "\t<tr><th scope=row>1</th><td>Toy Story         </td><td>1995</td></tr>\n",
              "\t<tr><th scope=row>2</th><td>Akira             </td><td>1998</td></tr>\n",
              "\t<tr><th scope=row>3</th><td>The Breakfast Club</td><td>1985</td></tr>\n",
              "\t<tr><th scope=row>5</th><td>Modern Times      </td><td>1936</td></tr>\n",
              "\t<tr><th scope=row>6</th><td>Fight Club        </td><td>1999</td></tr>\n",
              "\t<tr><th scope=row>7</th><td>City of God       </td><td>2002</td></tr>\n",
              "\t<tr><th scope=row>8</th><td>The Untouchables  </td><td>1987</td></tr>\n",
              "\t<tr><th scope=row>9</th><td>Dr. Strangelove   </td><td>1964</td></tr>\n",
              "</tbody>\n",
              "</table>\n"
            ]
          },
          "metadata": {}
        }
      ]
    }
  ]
}